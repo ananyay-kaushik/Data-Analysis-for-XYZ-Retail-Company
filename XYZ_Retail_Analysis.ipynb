{
 "cells": [
  {
   "cell_type": "markdown",
   "metadata": {},
   "source": [
    "# XYZ Retail Company: Data Analysis Suite"
   ]
  },
  {
   "cell_type": "markdown",
   "metadata": {},
   "source": [
    "### Project Overview:\n",
    "This notebook has all my Python scripts for analyzing the business data for XYZ Retail Company. I've broken it down into different tasks to solve specific problems."
   ]
  },
  {
   "cell_type": "markdown",
   "metadata": {},
   "source": [
    "## Task 1: Sales Data Summary\n",
    "**Objective:** Figure out some basic sales numbers automatically."
   ]
  },
  {
   "cell_type": "code",
   "execution_count": 4,
   "metadata": {},
   "outputs": [
    {
     "name": "stdout",
     "output_type": "stream",
     "text": [
      "--- Sales Data Summary ---\n",
      "Units Sold in Category A: 650\n",
      "Units Sold in Category B: 920\n",
      "Total Units Sold: 1570\n",
      "Difference between categories: 270 units\n",
      "Ratio of Category A to Category B sales: 0.71\n"
     ]
    }
   ],
   "source": [
    "# Okay, let's set the units sold for two types of products.\n",
    "units_sold_category_a = 650\n",
    "units_sold_category_b = 920\n",
    "\n",
    "# Now, I'll calculate the total units sold by adding them up.\n",
    "total_units_sold = units_sold_category_a + units_sold_category_b\n",
    "\n",
    "# Finding the difference in sales between the two categories.\n",
    "difference_in_units = abs(units_sold_category_a - units_sold_category_b)\n",
    "\n",
    "# Calculating the ratio of A to B sales.\n",
    "# I need to check if B is zero so my program doesn't crash.\n",
    "if units_sold_category_b != 0:\n",
    "    ratio_a_to_b = units_sold_category_a / units_sold_category_b\n",
    "else:\n",
    "    ratio_a_to_b = 'Undefined (Category B sales are zero)'\n",
    "\n",
    "# Printing out the results so they are easy to read.\n",
    "print(\"--- Sales Data Summary ---\")\n",
    "print(f\"Units Sold in Category A: {units_sold_category_a}\")\n",
    "print(f\"Units Sold in Category B: {units_sold_category_b}\")\n",
    "print(f\"Total Units Sold: {total_units_sold}\")\n",
    "print(f\"Difference between categories: {difference_in_units} units\")\n",
    "print(f\"Ratio of Category A to Category B sales: {ratio_a_to_b:.2f}\")"
   ]
  },
  {
   "cell_type": "markdown",
   "metadata": {},
   "source": [
    "## Task 2: Customer Age Data\n",
    "**Objective:** Make custom marketing messages using the customer's age."
   ]
  },
  {
   "cell_type": "code",
   "execution_count": 6,
   "metadata": {},
   "outputs": [
    {
     "name": "stdout",
     "output_type": "stream",
     "text": [
      "--- Marketing Campaign Message ---\n",
      "Dear Priya Singh, at 30, you’re eligible for our premium loyalty program.\n"
     ]
    }
   ],
   "source": [
    "# Here I'm creating variables for the customer's name and age.\n",
    "customer_name = \"Priya Singh\"\n",
    "customer_age = 30\n",
    "\n",
    "# I'll make a personalized message.\n",
    "# Using an f-string makes it easy to put the variables in the text.\n",
    "marketing_message = f\"Dear {customer_name}, at {str(customer_age)}, you’re eligible for our premium loyalty program.\"\n",
    "\n",
    "# And now, print the message.\n",
    "print(\"--- Marketing Campaign Message ---\")\n",
    "print(marketing_message)"
   ]
  },
  {
   "cell_type": "markdown",
   "metadata": {},
   "source": [
    "## Task 3: Product List Management\n",
    "**Objective:** Help manage the product price list."
   ]
  },
  {
   "cell_type": "code",
   "execution_count": 8,
   "metadata": {},
   "outputs": [
    {
     "name": "stdout",
     "output_type": "stream",
     "text": [
      "--- Product Price Analysis ---\n",
      "Highest Price: ₹8500.00\n",
      "Lowest Price: ₹899.99\n",
      "Mid-range Product Prices: [1250.5, 1850.75, 2300.0, 3200.2, 4500.0]\n",
      "Updated Product Price List (with new premium item): [1250.5, 2300.0, 899.99, 4500.0, 1850.75, 3200.2, 8500.0, 14999.99]\n"
     ]
    }
   ],
   "source": [
    "# This is the list of prices for our products in Rupees.\n",
    "product_prices = [1250.50, 2300.00, 899.99, 4500.00, 1850.75, 3200.20, 8500.00]\n",
    "\n",
    "# Getting the most and least expensive items from the list.\n",
    "highest_price = max(product_prices)\n",
    "lowest_price = min(product_prices)\n",
    "\n",
    "# I want to make a new list that doesn't have the highest and lowest prices.\n",
    "# First I'll sort the list, then just grab the middle items.\n",
    "sorted_prices = sorted(product_prices)\n",
    "mid_range_products = sorted_prices[1:-1]\n",
    "\n",
    "# Adding a new expensive product to our original list.\n",
    "new_premium_price = 14999.99\n",
    "product_prices.append(new_premium_price)\n",
    "\n",
    "# Printing everything for the inventory team.\n",
    "print(\"--- Product Price Analysis ---\")\n",
    "print(f\"Highest Price: ₹{highest_price:.2f}\")\n",
    "print(f\"Lowest Price: ₹{lowest_price:.2f}\")\n",
    "print(f\"Mid-range Product Prices: {mid_range_products}\")\n",
    "print(f\"Updated Product Price List (with new premium item): {product_prices}\")"
   ]
  },
  {
   "cell_type": "markdown",
   "metadata": {},
   "source": [
    "## Task 4: Inventory Lookup\n",
    "**Objective:** Quickly find product info for customer service."
   ]
  },
  {
   "cell_type": "code",
   "execution_count": 10,
   "metadata": {},
   "outputs": [
    {
     "name": "stdout",
     "output_type": "stream",
     "text": [
      "--- Inventory Lookup Result ---\n",
      "Product Name: Premium Wireless Headphones\n",
      "SKU: XYZ-12345-BLK\n",
      "Price: ₹12999.00\n"
     ]
    }
   ],
   "source": [
    "# I'm using a dictionary to hold all the details for one product.\n",
    "product_details = {\n",
    "    \"product_name\": \"Premium Wireless Headphones\",\n",
    "    \"SKU\": \"XYZ-12345-BLK\",\n",
    "    \"price\": 12999.00,\n",
    "    \"category\": \"Electronics\"\n",
    "}\n",
    "\n",
    "# Printing the product name and SKU when someone asks for it.\n",
    "print(\"--- Inventory Lookup Result ---\")\n",
    "print(f\"Product Name: {product_details['product_name']}\")\n",
    "print(f\"SKU: {product_details['SKU']}\")\n",
    "print(f\"Price: ₹{product_details['price']:.2f}\")"
   ]
  },
  {
   "cell_type": "markdown",
   "metadata": {},
   "source": [
    "## Task 5: Stock Level Alert System\n",
    "**Objective:** Make sure we don't run out of products."
   ]
  },
  {
   "cell_type": "code",
   "execution_count": 12,
   "metadata": {},
   "outputs": [
    {
     "name": "stdout",
     "output_type": "stream",
     "text": [
      "--- Stock Level Alert System ---\n",
      "Current Stock: 45 units\n",
      "Reorder Threshold: 50 units\n",
      "Alert: Reorder Now\n"
     ]
    }
   ],
   "source": [
    "# Setting the current stock and the level when we need to reorder.\n",
    "current_stock_level = 45\n",
    "reorder_threshold = 50\n",
    "\n",
    "print(\"--- Stock Level Alert System ---\")\n",
    "print(f\"Current Stock: {current_stock_level} units\")\n",
    "print(f\"Reorder Threshold: {reorder_threshold} units\")\n",
    "\n",
    "# Check if we need to reorder using an if statement.\n",
    "if current_stock_level < reorder_threshold:\n",
    "    print(\"Alert: Reorder Now\")\n",
    "else:\n",
    "    print(\"Status: Stock is sufficient.\")"
   ]
  },
  {
   "cell_type": "markdown",
   "metadata": {},
   "source": [
    "## Task 6: Sales Report Formatting\n",
    "**Objective:** Make the sales data look better in reports."
   ]
  },
  {
   "cell_type": "code",
   "execution_count": 14,
   "metadata": {},
   "outputs": [
    {
     "name": "stdout",
     "output_type": "stream",
     "text": [
      "--- Sales Report (Using FOR Loop) ---\n",
      "LAPTOP\n",
      "MOUSE\n",
      "KEYBOARD\n",
      "MONITOR\n",
      "WEBCAM\n",
      "\n",
      "--- Sales Report (Using WHILE Loop) ---\n",
      "LAPTOP\n",
      "MOUSE\n",
      "KEYBOARD\n",
      "MONITOR\n",
      "WEBCAM\n"
     ]
    }
   ],
   "source": [
    "# Here's a list of items we sold.\n",
    "products_sold = [\"Laptop\", \"Mouse\", \"Keyboard\", \"Monitor\", \"Webcam\"]\n",
    "\n",
    "# First, I'll try it with a for loop.\n",
    "print(\"--- Sales Report (Using FOR Loop) ---\")\n",
    "for product in products_sold:\n",
    "    print(product.upper()) # making each product name uppercase\n",
    "\n",
    "# Now, I'll do the same thing but with a while loop to show I can.\n",
    "print(\"\\n--- Sales Report (Using WHILE Loop) ---\")\n",
    "index = 0\n",
    "while index < len(products_sold):\n",
    "    print(products_sold[index].upper())\n",
    "    index += 1 # have to remember to increase the index!"
   ]
  },
  {
   "cell_type": "markdown",
   "metadata": {},
   "source": [
    "## Task 7: Area Calculation for Store Layout\n",
    "**Objective:** Calculate area for planning new store designs."
   ]
  },
  {
   "cell_type": "code",
   "execution_count": 16,
   "metadata": {},
   "outputs": [
    {
     "name": "stdout",
     "output_type": "stream",
     "text": [
      "--- Store Section Area Calculations ---\n",
      "Area of Section A: 875 sq. ft.\n",
      "Area of Section B: 600 sq. ft.\n",
      "Area of Section C: 2250 sq. ft.\n"
     ]
    }
   ],
   "source": [
    "# Making a simple function to find the area.\n",
    "def calculate_area(length, width):\n",
    "    \"\"\"This function just multiplies length and width to get the area.\"\"\"\n",
    "    return length * width\n",
    "\n",
    "# Setting the dimensions for a few sections of the store in square feet.\n",
    "section_a_length, section_a_width = 25, 35\n",
    "section_b_length, section_b_width = 20, 30\n",
    "section_c_length, section_c_width = 50, 45\n",
    "\n",
    "# Using my function to calculate the area for each section.\n",
    "area_a = calculate_area(section_a_length, section_a_width)\n",
    "area_b = calculate_area(section_b_length, section_b_width)\n",
    "area_c = calculate_area(section_c_length, section_c_width)\n",
    "\n",
    "print(\"--- Store Section Area Calculations ---\")\n",
    "print(f\"Area of Section A: {area_a} sq. ft.\")\n",
    "print(f\"Area of Section B: {area_b} sq. ft.\")\n",
    "print(f\"Area of Section C: {area_c} sq. ft.\")"
   ]
  },
  {
   "cell_type": "markdown",
   "metadata": {},
   "source": [
    "## Task 8: Customer Feedback Analysis\n",
    "**Objective:** Analyze some customer feedback."
   ]
  },
  {
   "cell_type": "code",
   "execution_count": 18,
   "metadata": {},
   "outputs": [
    {
     "name": "stdout",
     "output_type": "stream",
     "text": [
      "--- Customer Feedback Analysis ---\n",
      "Original Message: 'The customer service was excellent and the product quality is great!'\n",
      "Number of Vowels: 21\n",
      "Reversed Message for Report: '!taerg si ytilauq tcudorp eht dna tnellecxe saw ecivres remotsuc ehT'\n"
     ]
    }
   ],
   "source": [
    "# Just a sample feedback to test my code.\n",
    "feedback_message = \"The customer service was excellent and the product quality is great!\"\n",
    "\n",
    "# I'm going to count the vowels in the message.\n",
    "vowels = \"aeiouAEIOU\"\n",
    "vowel_count = 0\n",
    "for char in feedback_message:\n",
    "    if char in vowels:\n",
    "        vowel_count += 1\n",
    "\n",
    "# Now I'll reverse the message. It's a neat trick with slicing.\n",
    "reversed_message = feedback_message[::-1]\n",
    "\n",
    "# Printing out what I found.\n",
    "print(\"--- Customer Feedback Analysis ---\")\n",
    "print(f\"Original Message: '{feedback_message}'\")\n",
    "print(f\"Number of Vowels: {vowel_count}\")\n",
    "print(f\"Reversed Message for Report: '{reversed_message}'\")"
   ]
  },
  {
   "cell_type": "markdown",
   "metadata": {},
   "source": [
    "## Task 9: Price Filtering Tool\n",
    "**Objective:** Filter products for a discount campaign."
   ]
  },
  {
   "cell_type": "code",
   "execution_count": 20,
   "metadata": {},
   "outputs": [
    {
     "name": "stdout",
     "output_type": "stream",
     "text": [
      "--- Discount Campaign Eligibility ---\n",
      "Original Prices: [1500.0, 4999.0, 12050.0, 999.0, 7500.0, 15000.0, 2500.0]\n",
      "Discount applies to items priced >= ₹5000.00\n",
      "Eligible Product Prices: [12050.0, 7500.0, 15000.0]\n"
     ]
    }
   ],
   "source": [
    "# Here are our product prices again.\n",
    "product_prices = [1500.00, 4999.00, 12050.00, 999.00, 7500.00, 15000.00, 2500.00]\n",
    "discount_threshold = 5000.00\n",
    "\n",
    "# I'm using a list comprehension here, it's a shorter way to make a new list.\n",
    "# This will only keep prices that are equal to or above the threshold.\n",
    "eligible_for_discount = [price for price in product_prices if price >= discount_threshold]\n",
    "\n",
    "print(\"--- Discount Campaign Eligibility ---\")\n",
    "print(f\"Original Prices: {product_prices}\")\n",
    "print(f\"Discount applies to items priced >= ₹{discount_threshold:.2f}\")\n",
    "print(f\"Eligible Product Prices: {eligible_for_discount}\")"
   ]
  },
  {
   "cell_type": "markdown",
   "metadata": {},
   "source": [
    "## Task 10: Sales Log File Management\n",
    "**Objective:** Manage sales log files for our records."
   ]
  },
  {
   "cell_type": "code",
   "execution_count": 22,
   "metadata": {},
   "outputs": [
    {
     "name": "stdout",
     "output_type": "stream",
     "text": [
      "--- Sales Log File Management ---\n",
      "✅ Successfully wrote to sales_log.txt\n",
      "\n",
      "--- Reading from Sales Log ---\n",
      "📄 File Content:\n",
      "Daily Sales Summary - 2025-08-04\n",
      "Total Sales: ₹1,250,500.50 | Units Sold: 980\n",
      "\n"
     ]
    }
   ],
   "source": [
    "# Setting up the file name and what I want to write inside.\n",
    "file_name = \"sales_log.txt\"\n",
    "line1 = \"Daily Sales Summary - 2025-08-04\\n\"\n",
    "line2 = \"Total Sales: ₹1,250,500.50 | Units Sold: 980\\n\"\n",
    "\n",
    "print(\"--- Sales Log File Management ---\")\n",
    "\n",
    "# Time to write to the file.\n",
    "try:\n",
    "    with open(file_name, 'w', encoding='utf-8') as file:\n",
    "        file.write(line1)\n",
    "        file.write(line2)\n",
    "    print(f\"✅ Successfully wrote to {file_name}\")\n",
    "except IOError as e:\n",
    "    print(f\"❌ Oops, something went wrong writing to file: {e}\")\n",
    "\n",
    "# Now, let's read the file to make sure it worked.\n",
    "print(\"\\n--- Reading from Sales Log ---\")\n",
    "try:\n",
    "    with open(file_name, 'r', encoding='utf-8') as file:\n",
    "        content = file.read()\n",
    "        print(\"📄 File Content:\")\n",
    "        print(content)\n",
    "except FileNotFoundError:\n",
    "    print(f\"❌ Error: {file_name} not found.\")\n",
    "except IOError as e:\n",
    "    print(f\"❌ Oops, something went wrong reading the file: {e}\")\n"
   ]
  },
  {
   "cell_type": "markdown",
   "metadata": {},
   "source": [
    "## Task 11: Daily Sales Average\n",
    "**Objective:** Calculate the average daily sales from last week."
   ]
  },
  {
   "cell_type": "code",
   "execution_count": 24,
   "metadata": {},
   "outputs": [
    {
     "name": "stdout",
     "output_type": "stream",
     "text": [
      "--- Weekly Sales Performance ---\n",
      "Total weekly sales: ₹826,592.00\n",
      "Average daily sales: ₹118,084.57\n"
     ]
    }
   ],
   "source": [
    "# Got the sales data for the last 7 days.\n",
    "weekly_sales = [95500.50, 110500.00, 89000.75, 125600.25, 112420.00, 150850.50, 142720.00]\n",
    "\n",
    "# Just using the sum() function to get the total.\n",
    "total_weekly_sales = sum(weekly_sales)\n",
    "\n",
    "# To get the average, I'll divide the total by the number of days.\n",
    "average_daily_sales = total_weekly_sales / len(weekly_sales)\n",
    "\n",
    "print(\"--- Weekly Sales Performance ---\")\n",
    "print(f\"Total weekly sales: ₹{total_weekly_sales:,.2f}\")\n",
    "print(f\"Average daily sales: ₹{average_daily_sales:,.2f}\")"
   ]
  },
  {
   "cell_type": "markdown",
   "metadata": {},
   "source": [
    "## Task 12: Customer Segmentation\n",
    "**Objective:** Group customers by how much they spend."
   ]
  },
  {
   "cell_type": "code",
   "execution_count": 26,
   "metadata": {},
   "outputs": [
    {
     "name": "stdout",
     "output_type": "stream",
     "text": [
      "--- Customer Spending Segmentation ---\n",
      "Customer 1 (₹4550.50) is a 'Low' spender.\n",
      "Customer 2 (₹50000.00) is a 'High' spender.\n",
      "Customer 3 (₹12075.75) is a 'Medium' spender.\n",
      "Customer 4 (₹1500.00) is a 'Low' spender.\n",
      "Customer 5 (₹95080.80) is a 'High' spender.\n",
      "Customer 6 (₹7520.20) is a 'Medium' spender.\n"
     ]
    }
   ],
   "source": [
    "# This list shows how much different customers spent.\n",
    "customer_spending = [4550.50, 50000.00, 12075.75, 1500.00, 95080.80, 7520.20]\n",
    "\n",
    "# Setting the limits for each spending group.\n",
    "low_spender_threshold = 5000\n",
    "medium_spender_threshold = 25000\n",
    "\n",
    "print(\"--- Customer Spending Segmentation ---\")\n",
    "# Looping through each customer's spending to assign them a category.\n",
    "for i, spending in enumerate(customer_spending):\n",
    "    if spending < low_spender_threshold:\n",
    "        category = \"Low\"\n",
    "    elif spending < medium_spender_threshold:\n",
    "        category = \"Medium\"\n",
    "    else:\n",
    "        category = \"High\"\n",
    "    print(f\"Customer {i+1} (₹{spending:.2f}) is a '{category}' spender.\")"
   ]
  },
  {
   "cell_type": "markdown",
   "metadata": {},
   "source": [
    "## Task 13: Discount Calculation\n",
    "**Objective:** Automatically calculate discounted prices."
   ]
  },
  {
   "cell_type": "code",
   "execution_count": 28,
   "metadata": {},
   "outputs": [
    {
     "name": "stdout",
     "output_type": "stream",
     "text": [
      "--- Promotional Discount Prices ---\n",
      "T-Shirt (Original: ₹1299.00, 10% off) -> Final Price: ₹1169.10\n",
      "Jeans (Original: ₹3499.00, 20% off) -> Final Price: ₹2799.20\n",
      "Jacket (Original: ₹7999.00, 15% off) -> Final Price: ₹6799.15\n"
     ]
    }
   ],
   "source": [
    "# This function will figure out the price after a discount.\n",
    "def calculate_final_price(original_price, discount_percent):\n",
    "    \"\"\"This function calculates the price after applying a percentage discount.\"\"\"\n",
    "    discount_amount = original_price * (discount_percent / 100)\n",
    "    final_price = original_price - discount_amount\n",
    "    return final_price\n",
    "\n",
    "# Here are some products on sale, stored as a list of dictionaries.\n",
    "products_on_sale = [\n",
    "    {\"name\": \"T-Shirt\", \"price\": 1299.00, \"discount\": 10}, # 10% off\n",
    "    {\"name\": \"Jeans\", \"price\": 3499.00, \"discount\": 20}, # 20% off\n",
    "    {\"name\": \"Jacket\", \"price\": 7999.00, \"discount\": 15}  # 15% off\n",
    "]\n",
    "\n",
    "print(\"--- Promotional Discount Prices ---\")\n",
    "# Looping through each product to calculate its new price.\n",
    "for product in products_on_sale:\n",
    "    final_price = calculate_final_price(product['price'], product['discount'])\n",
    "    print(f\"{product['name']} (Original: ₹{product['price']:.2f}, {product['discount']}% off) -> Final Price: ₹{final_price:.2f}\")"
   ]
  },
  {
   "cell_type": "markdown",
   "metadata": {},
   "source": [
    "## Task 14: Customer Feedback Sentiment Analysis\n",
    "**Objective:** Do a basic check to see if feedback is positive or negative."
   ]
  },
  {
   "cell_type": "code",
   "execution_count": 30,
   "metadata": {},
   "outputs": [
    {
     "name": "stdout",
     "output_type": "stream",
     "text": [
      "--- Customer Feedback Sentiment ---\n",
      "Feedback 1: 'i had a great experience, the staff was amazing and helpful.' -> Sentiment: Positive\n",
      "Feedback 2: 'the delivery was late and the product quality was poor.' -> Sentiment: Negative\n"
     ]
    }
   ],
   "source": [
    "# Making a list of happy words and sad words to check the feedback.\n",
    "positive_words = [\"good\", \"excellent\", \"happy\", \"great\", \"love\", \"amazing\"]\n",
    "negative_words = [\"bad\", \"disappointed\", \"poor\", \"sad\", \"terrible\", \"problem\"]\n",
    "\n",
    "# Some example feedback to test.\n",
    "feedback = \"I had a great experience, the staff was amazing and helpful.\".lower()\n",
    "feedback2 = \"The delivery was late and the product quality was poor.\".lower()\n",
    "\n",
    "# A function to analyze the sentiment of a text.\n",
    "def analyze_sentiment(text):\n",
    "    # First, check for any positive words.\n",
    "    for word in positive_words:\n",
    "        if word in text:\n",
    "            return \"Positive\"\n",
    "    # If no positive words, check for negative words.\n",
    "    for word in negative_words:\n",
    "        if word in text:\n",
    "            return \"Negative\"\n",
    "    # If neither, I'll just call it Neutral.\n",
    "    return \"Neutral\"\n",
    "\n",
    "print(\"--- Customer Feedback Sentiment ---\")\n",
    "print(f\"Feedback 1: '{feedback}' -> Sentiment: {analyze_sentiment(feedback)}\")\n",
    "print(f\"Feedback 2: '{feedback2}' -> Sentiment: {analyze_sentiment(feedback2)}\")"
   ]
  },
  {
   "cell_type": "markdown",
   "metadata": {},
   "source": [
    "## Task 15: Employee Salary Increment Calculator\n",
    "**Objective:** Calculate salary raises based on performance scores."
   ]
  },
  {
   "cell_type": "code",
   "execution_count": 32,
   "metadata": {},
   "outputs": [
    {
     "name": "stdout",
     "output_type": "stream",
     "text": [
      "--- Employee Salary Increment Calculation ---\n",
      "Base Salary: ₹600,000.00\n",
      "Aditi (Rating: 4) -> New Salary: ₹642,000.00 (7% increment)\n",
      "Bharat (Rating: 2) -> New Salary: ₹612,000.00 (2% increment)\n",
      "Chetan (Rating: 5) -> New Salary: ₹660,000.00 (10% increment)\n",
      "Dev (Rating: 3) -> New Salary: ₹630,000.00 (5% increment)\n"
     ]
    }
   ],
   "source": [
    "# Here's a dictionary with employees and their performance scores (1 is bad, 5 is good).\n",
    "employee_ratings = {\n",
    "    \"Aditi\": 4,\n",
    "    \"Bharat\": 2,\n",
    "    \"Chetan\": 5,\n",
    "    \"Dev\": 3\n",
    "}\n",
    "\n",
    "# Setting a base annual salary for this example.\n",
    "base_salary = 600000 # This is 6 Lakhs per annum\n",
    "\n",
    "# These are the rules for salary increments based on rating.\n",
    "increment_rules = {\n",
    "    5: 0.10,  # 10% for excellent\n",
    "    4: 0.07,  # 7% for good\n",
    "    3: 0.05,  # 5% for average\n",
    "    2: 0.02,  # 2% for below average\n",
    "    1: 0.00   # 0% for poor\n",
    "}\n",
    "\n",
    "print(\"--- Employee Salary Increment Calculation ---\")\n",
    "print(f\"Base Salary: ₹{base_salary:,.2f}\")\n",
    "# Now I will loop through and calculate the new salary for each person.\n",
    "for employee, rating in employee_ratings.items():\n",
    "    increment_percentage = increment_rules.get(rating, 0.0)\n",
    "    increment_amount = base_salary * increment_percentage\n",
    "    new_salary = base_salary + increment_amount\n",
    "    print(f\"{employee} (Rating: {rating}) -> New Salary: ₹{new_salary:,.2f} ({increment_percentage*100:.0f}% increment)\")"
   ]
  },
  {
   "cell_type": "markdown",
   "metadata": {},
   "source": [
    "## Task 16: Monthly Sales Report Generator\n",
    "**Objective:** Make a simple text file report of monthly sales."
   ]
  },
  {
   "cell_type": "code",
   "execution_count": 34,
   "metadata": {},
   "outputs": [
    {
     "name": "stdout",
     "output_type": "stream",
     "text": [
      "--- Monthly Sales Report Generator ---\n",
      "✅ Successfully generated and saved report to monthly_report_july.txt\n"
     ]
    }
   ],
   "source": [
    "# This is all the daily sales data for one month.\n",
    "monthly_sales_data = [\n",
    "    152000, 163450, 141000, 185600, 174200, 198500, 187200, 176000, 145000, 130000, \n",
    "    195000, 211000, 205000, 182000, 175000, 165000, 150000, 140000, 135000, 160000, \n",
    "    170000, 180000, 195000, 220000, 230000, 215000, 200000, 190000, 185000, 240000\n",
    "]\n",
    "\n",
    "# Calculating total and average sales.\n",
    "total_monthly_sales = sum(monthly_sales_data)\n",
    "average_monthly_sales = total_monthly_sales / len(monthly_sales_data)\n",
    "\n",
    "# Setting the report file name.\n",
    "report_file = \"monthly_report_july.txt\"\n",
    "\n",
    "print(\"--- Monthly Sales Report Generator ---\")\n",
    "\n",
    "# Writing the stats to a text file.\n",
    "try:\n",
    "    with open(report_file, 'w', encoding='utf-8') as f:  # <-- added encoding\n",
    "        f.write(\"--- Monthly Sales Report ---\\n\")\n",
    "        f.write(\"Month: July 2025\\n\")\n",
    "        f.write(\"----------------------------\\n\")\n",
    "        f.write(f\"Total Monthly Sales: ₹{total_monthly_sales:,.2f}\\n\")\n",
    "        f.write(f\"Average Daily Sales: ₹{average_monthly_sales:,.2f}\\n\")\n",
    "        f.write(f\"Highest Daily Sale: ₹{max(monthly_sales_data):,.2f}\\n\")\n",
    "        f.write(f\"Lowest Daily Sale: ₹{min(monthly_sales_data):,.2f}\\n\")\n",
    "    print(f\"✅ Successfully generated and saved report to {report_file}\")\n",
    "except IOError as e:\n",
    "    print(f\"❌ Error writing report file: {e}\")\n"
   ]
  },
  {
   "cell_type": "markdown",
   "metadata": {},
   "source": [
    "## Task 17: Stock Replenishment Planning\n",
    "**Objective:** Figure out which products we need to re-stock."
   ]
  },
  {
   "cell_type": "code",
   "execution_count": 36,
   "metadata": {},
   "outputs": [
    {
     "name": "stdout",
     "output_type": "stream",
     "text": [
      "--- Stock Replenishment Plan ---\n",
      "Replenishment Threshold: 30 units\n",
      "\n",
      "The following products need to be reordered:\n",
      "- Laptop\n",
      "- Keyboard\n"
     ]
    }
   ],
   "source": [
    "# My inventory list, showing how much of each product I have.\n",
    "inventory = [\n",
    "    {\"product_name\": \"Laptop\", \"stock\": 25},\n",
    "    {\"product_name\": \"Mouse\", \"stock\": 150},\n",
    "    {\"product_name\": \"Keyboard\", \"stock\": 15},\n",
    "    {\"product_name\": \"Monitor\", \"stock\": 40}\n",
    "]\n",
    "\n",
    "# This is the minimum stock level before we reorder.\n",
    "replenishment_threshold = 30\n",
    "\n",
    "# I'll make an empty list to hold the products that are low on stock.\n",
    "products_to_reorder = []\n",
    "for item in inventory:\n",
    "    if item[\"stock\"] < replenishment_threshold:\n",
    "        products_to_reorder.append(item[\"product_name\"])\n",
    "\n",
    "print(\"--- Stock Replenishment Plan ---\")\n",
    "print(f\"Replenishment Threshold: {replenishment_threshold} units\")\n",
    "if products_to_reorder:\n",
    "    print(\"\\nThe following products need to be reordered:\")\n",
    "    for product in products_to_reorder:\n",
    "        print(f\"- {product}\")\n",
    "else:\n",
    "    print(\"\\nAll product stock levels are sufficient.\")"
   ]
  },
  {
   "cell_type": "markdown",
   "metadata": {},
   "source": [
    "## Task 18: Data Cleaning Utility\n",
    "**Objective:** Clean up customer names to make them consistent."
   ]
  },
  {
   "cell_type": "code",
   "execution_count": 38,
   "metadata": {},
   "outputs": [
    {
     "name": "stdout",
     "output_type": "stream",
     "text": [
      "--- Data Cleaning: Customer Names ---\n",
      "Raw names: ['  rohan sharma ', 'MEERA KUMAR', '  arjun nair', 'PRIYA    PATEL  ']\n",
      "Cleaned names: ['Rohan Sharma', 'Meera Kumar', 'Arjun Nair', 'Priya    Patel']\n"
     ]
    }
   ],
   "source": [
    "# Some messy customer names that need cleaning up.\n",
    "raw_customer_names = [\"  rohan sharma \", \"MEERA KUMAR\", \"  arjun nair\", \"PRIYA    PATEL  \"]\n",
    "\n",
    "# I'll clean them up by removing spaces and fixing the capitalization.\n",
    "cleaned_names = []\n",
    "for name in raw_customer_names:\n",
    "    # .strip() removes whitespace from the start and end.\n",
    "    # .title() makes the first letter of each word a capital.\n",
    "    cleaned_name = name.strip().title()\n",
    "    cleaned_names.append(cleaned_name)\n",
    "\n",
    "print(\"--- Data Cleaning: Customer Names ---\")\n",
    "print(f\"Raw names: {raw_customer_names}\")\n",
    "print(f\"Cleaned names: {cleaned_names}\")"
   ]
  },
  {
   "cell_type": "markdown",
   "metadata": {},
   "source": [
    "## Task 19: Simple Sales Forecasting\n",
    "**Objective:** Make a simple guess for next month's sales."
   ]
  },
  {
   "cell_type": "code",
   "execution_count": 40,
   "metadata": {},
   "outputs": [
    {
     "name": "stdout",
     "output_type": "stream",
     "text": [
      "--- Simple Sales Forecast ---\n",
      "Sales for the last 3 months: ₹3,500,000, ₹3,800,000, ₹4,200,000\n",
      "Forecasted sales for next month (August): ₹3,833,333.33\n"
     ]
    }
   ],
   "source": [
    "# Okay, sales data for the last three months (e.g., May, June, July).\n",
    "last_3_months_sales = [3500000, 3800000, 4200000]\n",
    "\n",
    "# I'll just use a simple average to predict the next month's sales.\n",
    "forecasted_sales = sum(last_3_months_sales) / len(last_3_months_sales)\n",
    "\n",
    "print(\"--- Simple Sales Forecast ---\")\n",
    "print(f\"Sales for the last 3 months: ₹{last_3_months_sales[0]:,}, ₹{last_3_months_sales[1]:,}, ₹{last_3_months_sales[2]:,}\")\n",
    "print(f\"Forecasted sales for next month (August): ₹{forecasted_sales:,.2f}\")"
   ]
  },
  {
   "cell_type": "markdown",
   "metadata": {},
   "source": [
    "## Task 20: Customer Loyalty Points Calculator\n",
    "**Objective:** Calculate loyalty points for customers."
   ]
  },
  {
   "cell_type": "code",
   "execution_count": 42,
   "metadata": {},
   "outputs": [
    {
     "name": "stdout",
     "output_type": "stream",
     "text": [
      "--- Customer Loyalty Points Calculation ---\n",
      "Customer 1 (Purchase: ₹4550.50) earned 4550 loyalty points.\n",
      "Customer 2 (Purchase: ₹12500.00) earned 18750 loyalty points.\n",
      "Customer 3 (Purchase: ₹58000.75) earned 116002 loyalty points.\n",
      "Customer 4 (Purchase: ₹4999.99) earned 5000 loyalty points.\n"
     ]
    }
   ],
   "source": [
    "# Here's how we'll calculate loyalty points based on how much they spend.\n",
    "# Tier 1: ₹0 - ₹4999.99 -> 1 point per Rupee\n",
    "# Tier 2: ₹5000 - ₹19999.99 -> 1.5 points per Rupee\n",
    "# Tier 3: ₹20000+ -> 2 points per Rupee\n",
    "\n",
    "# A list of how much some customers spent.\n",
    "customer_purchases = [4550.50, 12500.00, 58000.75, 4999.99]\n",
    "\n",
    "# A function to calculate the points.\n",
    "def calculate_loyalty_points(purchase_amount):\n",
    "    if purchase_amount < 5000:\n",
    "        multiplier = 1.0\n",
    "    elif purchase_amount < 20000:\n",
    "        multiplier = 1.5\n",
    "    else:\n",
    "        multiplier = 2.0\n",
    "    return purchase_amount * multiplier\n",
    "\n",
    "print(\"--- Customer Loyalty Points Calculation ---\")\n",
    "# Looping through each purchase to calculate the points earned.\n",
    "for i, purchase in enumerate(customer_purchases):\n",
    "    points = calculate_loyalty_points(purchase)\n",
    "    print(f\"Customer {i+1} (Purchase: ₹{purchase:.2f}) earned {points:.0f} loyalty points.\")"
   ]
  }
 ],
 "metadata": {
  "kernelspec": {
   "display_name": "Python 3 (ipykernel)",
   "language": "python",
   "name": "python3"
  },
  "language_info": {
   "codemirror_mode": {
    "name": "ipython",
    "version": 3
   },
   "file_extension": ".py",
   "mimetype": "text/x-python",
   "name": "python",
   "nbconvert_exporter": "python",
   "pygments_lexer": "ipython3",
   "version": "3.12.7"
  }
 },
 "nbformat": 4,
 "nbformat_minor": 4
}
